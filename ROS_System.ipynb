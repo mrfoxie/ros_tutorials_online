{
  "nbformat": 4,
  "nbformat_minor": 0,
  "metadata": {
    "colab": {
      "name": "ROS System.ipynb",
      "provenance": [],
      "collapsed_sections": [],
      "toc_visible": true,
      "authorship_tag": "ABX9TyM6jtuoLo8mPR9pMv8WiJ0W",
      "include_colab_link": true
    },
    "kernelspec": {
      "display_name": "Python 3",
      "name": "python3"
    },
    "language_info": {
      "name": "python"
    }
  },
  "cells": [
    {
      "cell_type": "markdown",
      "metadata": {
        "id": "view-in-github",
        "colab_type": "text"
      },
      "source": [
        "<a href=\"https://colab.research.google.com/github/mrfoxie/ros_tutorials_online/blob/master/ROS_System.ipynb\" target=\"_parent\"><img src=\"https://colab.research.google.com/assets/colab-badge.svg\" alt=\"Open In Colab\"/></a>"
      ]
    },
    {
      "cell_type": "markdown",
      "metadata": {
        "id": "SIr9iZrJghnp"
      },
      "source": [
        "# Hello user\n",
        "I will try my best to make you understand ROS System in the simplest way as I can also I will be uploading my tutorial project on [github](https://github.com/mrfoxie/ros_tutorials) so that you can use it for yourself and make changes as you want ROS mainly uses Cpp and python as its main programming to run it projects as well as its tutorials. You can use ctrl+F9 to run all the commands at once but I presonally recommend to go throught all the cells and read the instruction but if your familiar with the commands then you can run all the cells at once its on you. If your expert then you can contribute on my github repo [ROS Tutorials](https://github.com/mrfoxie/ros_tutorials) I know that there are many people who are expert in this field so if you can contribue here and on my repo then it would be really helpfull for me to learn and share knowledge to everyone.\n",
        "<br><br><br><br><br>\n",
        "Regards."
      ]
    },
    {
      "cell_type": "markdown",
      "metadata": {
        "id": "rPXqeN9UNAYd"
      },
      "source": [
        "# Package update and upgrade"
      ]
    },
    {
      "cell_type": "code",
      "metadata": {
        "id": "VVt9r4fJnFes",
        "cellView": "form"
      },
      "source": [
        "#@markdown Package update and upgradation\n",
        "<br>\n",
        "#@markdown We we will be upgrading ubuntu system packages and also checking release version of ubuntu so that we can install ROS System here.\n",
        "#@markdown It will take time while upgrading packages so wait for a while.😅😅\n",
        "!apt update\n",
        "!apt upgrade -y\n",
        "#!apt autoremove\n",
        "#apt list --upgradable\n",
        "#!apt full-upgrade"
      ],
      "execution_count": null,
      "outputs": []
    },
    {
      "cell_type": "markdown",
      "metadata": {
        "id": "6x73cNp0eiw8"
      },
      "source": [
        "We will install some packages before proceedings ahead so that it would be eaiser."
      ]
    },
    {
      "cell_type": "code",
      "metadata": {
        "cellView": "form",
        "id": "6uE7ahqMe6ZU"
      },
      "source": [
        "#@markdown Start isntallation\n",
        "!apt install git nano terminator -y"
      ],
      "execution_count": null,
      "outputs": []
    },
    {
      "cell_type": "markdown",
      "metadata": {
        "id": "um6hvy1AnM4q"
      },
      "source": [
        "## Check which system for installation for ROS Systen"
      ]
    },
    {
      "cell_type": "code",
      "metadata": {
        "id": "rVtpRP5QnlA2",
        "cellView": "form"
      },
      "source": [
        "#@markdown Release version check\n",
        "<br>\n",
        "#@markdown We will check which OS is it and which type of sytem it is.\n",
        "!lsb_release -a\n",
        "!uname -a"
      ],
      "execution_count": null,
      "outputs": []
    },
    {
      "cell_type": "markdown",
      "metadata": {
        "id": "Vx8CoVI6NNZE"
      },
      "source": [
        "# ROS System Installation\n",
        "This are all the commands to install ROS system on this Ubuntu 18.04 bionic version, read all the teps steps and don't miss any one"
      ]
    },
    {
      "cell_type": "markdown",
      "metadata": {
        "id": "ELBjZZc_n7Hi"
      },
      "source": [
        "## Now let's update sources.list"
      ]
    },
    {
      "cell_type": "code",
      "metadata": {
        "id": "8X3LiwJpoF4z",
        "cellView": "form"
      },
      "source": [
        "#@title Update `sources.list` so that we can install **ROS System** packages.\n",
        "!sh -c 'echo \"deb http://packages.ros.org/ros/ubuntu $(lsb_release -sc) main\" > /etc/apt/sources.list.d/ros-latest.list'\n",
        "!apt-key adv --keyserver 'hkp://keyserver.ubuntu.com:80' --recv-key C1CF6E31E6BADE8868B172B4F42ED6FBAB17C654"
      ],
      "execution_count": null,
      "outputs": []
    },
    {
      "cell_type": "markdown",
      "metadata": {
        "id": "h0eC6u9docty"
      },
      "source": [
        "## As the `ROS System` is been added to our systen so now let's update our repositories to get all resources from ROS"
      ]
    },
    {
      "cell_type": "code",
      "metadata": {
        "id": "mIF9U77GpihR",
        "cellView": "form"
      },
      "source": [
        "#@markdown Now as we updated `sources.list` now we will update we will once update our packages, so that we will get all the packages from **ROS System**.\n",
        "!apt update"
      ],
      "execution_count": null,
      "outputs": []
    },
    {
      "cell_type": "markdown",
      "metadata": {
        "id": "c0acyT_BpkzH"
      },
      "source": [
        "## Now as we have done all the process and check what our system(Ubuntu 18.04.5 bionic) is, so now lets check ros packages which we fetch from ROS System."
      ]
    },
    {
      "cell_type": "code",
      "metadata": {
        "id": "fhPZIIZAqNN8",
        "cellView": "form"
      },
      "source": [
        "#@markdown As we have check which system it in [**os release**](https://colab.research.google.com/drive/1WvBBk-5HbWhLl3vDcpcmYCfwWEDMSJn6#scrollTo=rVtpRP5QnlA2&line=3&uniqifier=1) version, now we will check `melodic desktop` is been recived from **ROS System** so that we can move on ahead.\n",
        "<br>\n",
        "#@markdown But if you won't get any kind of result then go back to [sources.list](https://colab.research.google.com/drive/1WvBBk-5HbWhLl3vDcpcmYCfwWEDMSJn6#scrollTo=8X3LiwJpoF4z&line=1&uniqifier=1) to update our list.\n",
        "!apt search ros-melodic-desktop-full"
      ],
      "execution_count": null,
      "outputs": []
    },
    {
      "cell_type": "markdown",
      "metadata": {
        "id": "sPy9Nc-9qSia"
      },
      "source": [
        "## As we successfully fetch from ROS System and also check that the package is been fetched so lets install it in our system."
      ]
    },
    {
      "cell_type": "code",
      "metadata": {
        "id": "9Jf7g6sGqnLN"
      },
      "source": [
        "!apt install ros-melodic-desktop-full -y"
      ],
      "execution_count": null,
      "outputs": []
    },
    {
      "cell_type": "markdown",
      "metadata": {
        "id": "yT2hyMT6te1V"
      },
      "source": [
        "## Now let's update our bash so that we can use ROS command anytime we want."
      ]
    },
    {
      "cell_type": "code",
      "metadata": {
        "id": "KprcQMRstp1R"
      },
      "source": [
        "!echo \"source /opt/ros/melodic/setup.bash\" >> ~/.bashrc\n",
        "!source ~/.bashrc\n",
        "!source /opt/ros/melodic/setup.bash"
      ],
      "execution_count": null,
      "outputs": []
    },
    {
      "cell_type": "markdown",
      "metadata": {
        "id": "iMh8CVsWt-t6"
      },
      "source": [
        "## Some of the dependancy are been not installed while installation of ROS System so for our safe side let's install it on our system"
      ]
    },
    {
      "cell_type": "code",
      "metadata": {
        "id": "paZdZd7FuO01"
      },
      "source": [
        "apt install python-rosdep python-rosinstall python-rosinstall-generator python-wstool build-essential -y"
      ],
      "execution_count": null,
      "outputs": []
    },
    {
      "cell_type": "markdown",
      "metadata": {
        "id": "eVkCgdXhuUAv"
      },
      "source": [
        "## After all the installation and all the process we will initialize rosdep to get all the sources from ROS"
      ]
    },
    {
      "cell_type": "code",
      "metadata": {
        "id": "od5UUPTnukxE"
      },
      "source": [
        "!sudo rosdep init"
      ],
      "execution_count": null,
      "outputs": []
    },
    {
      "cell_type": "markdown",
      "metadata": {
        "id": "n_T2V_aFuu1i"
      },
      "source": [
        "## Now update ROS packages"
      ]
    },
    {
      "cell_type": "code",
      "metadata": {
        "id": "R9u1V6nZuuON"
      },
      "source": [
        "!rosdep update"
      ],
      "execution_count": null,
      "outputs": []
    },
    {
      "cell_type": "markdown",
      "metadata": {
        "id": "H3MSfI1mu5av"
      },
      "source": [
        "## Workshop setup using existing workshop\n",
        "Till now we have update our package and installing the ROS pacakge by checking our System in the starting. Now we well see some commands which will help to you to understand how to use ros command and run your first program \n",
        "I have also make an git repo on github and i will be also uploading it on gitlab also \n",
        "``` bash\n",
        "git clone https://github.com/mrfoxie/ros_tutorials.git\n",
        "```\n",
        "the above code is the ros project which will help you to understand the workflow of ros system as well as to create your first own turtle simulator. so we will be cloning it here so that we can check it our how does it works or you can skip this step and create workshop [mannually](https://colab.research.google.com/drive/1EBbvawTN9M32wOVosWrhLFgHo6cfDh0E#scrollTo=Drb6XMk25m5t&line=1&uniqifier=1)."
      ]
    },
    {
      "cell_type": "code",
      "metadata": {
        "id": "L93F0AaOwpyE"
      },
      "source": [
        "!cd ~/\n",
        "!pwd\n",
        "!git clone https://github.com/mrfoxie/ros_tutorials.git catkin_ws\n",
        "!cd catkin_ws"
      ],
      "execution_count": null,
      "outputs": []
    },
    {
      "cell_type": "markdown",
      "metadata": {
        "id": "cigmdr3-5Nab"
      },
      "source": [
        "## If you want to use ROS command and make workshop then use the following command but first we have to check ROS environment and see all the details, and setup the setup.sh file in the system."
      ]
    },
    {
      "cell_type": "code",
      "metadata": {
        "id": "C-jzZtCP5NDk"
      },
      "source": [
        "!printenv | grep ROS\n",
        "!source /opt/ros/melodic/setup.bash"
      ],
      "execution_count": null,
      "outputs": []
    },
    {
      "cell_type": "markdown",
      "metadata": {
        "id": "Drb6XMk25m5t"
      },
      "source": [
        "## let's create workshop mannually"
      ]
    },
    {
      "cell_type": "code",
      "metadata": {
        "id": "tl6rbx4g7KLN"
      },
      "source": [
        "!mkdir -p ~/catkin_ws/src\n",
        "!cd ~/carkin_ws"
      ],
      "execution_count": null,
      "outputs": []
    },
    {
      "cell_type": "markdown",
      "metadata": {
        "id": "Z1NsruMF7eYU"
      },
      "source": [
        "## Initializing Project\n",
        "as we have create workshop now we will initialze the project "
      ]
    },
    {
      "cell_type": "code",
      "metadata": {
        "id": "1yC0j3jYD1GX"
      },
      "source": [
        "!cd ~/catkin_ws\n",
        "!pwd\n",
        "!catkin_make"
      ],
      "execution_count": null,
      "outputs": []
    },
    {
      "cell_type": "markdown",
      "metadata": {
        "id": "MaNl6RDUD8Vo"
      },
      "source": [
        "Now as we initialze the project there will be some directory will be created in `catkin_ws` folder will be created such as `build` and `devel`. After the process is done we will use setup.bash to execute `devel/setup.bash` to build packages."
      ]
    },
    {
      "cell_type": "code",
      "metadata": {
        "id": "Q5yA4xljHEHD"
      },
      "source": [
        "!source ~/catkin_ws/devel/setup.bash"
      ],
      "execution_count": null,
      "outputs": []
    },
    {
      "cell_type": "markdown",
      "metadata": {
        "id": "CxSHZisvH2W6"
      },
      "source": [
        "## Path Checking\n",
        "After building setup.bash lets check the path of our directory using ROS Package Path."
      ]
    },
    {
      "cell_type": "code",
      "metadata": {
        "id": "yq5LMm5fIHJc"
      },
      "source": [
        "!cd ~/catkin_ws\n",
        "!echo $ROS_PACKAGE_PATH"
      ],
      "execution_count": null,
      "outputs": []
    },
    {
      "cell_type": "markdown",
      "metadata": {
        "id": "mrBsz8prLtOU"
      },
      "source": [
        "# ROS File system\n",
        "This are the few commands which will help you out to find packages to install in your workshop, there asre also some tutorials inbuild which will help you to understand the working process of ROS Sytem and allow you to use it."
      ]
    },
    {
      "cell_type": "markdown",
      "metadata": {
        "id": "XLQm_4pMMbq2"
      },
      "source": [
        "## Finding Package\n",
        "This command will help you to find package from ros package \n",
        "```\n",
        "rospack find [package_name]\n",
        "```\n",
        "where you can can find the specific package but for now we will be findig `roscpp` package. Let's do it."
      ]
    },
    {
      "cell_type": "code",
      "metadata": {
        "id": "q2a3kzw4MWVZ"
      },
      "source": [
        "# rospack find [package_name]\n",
        "!rospack find roscpp"
      ],
      "execution_count": null,
      "outputs": []
    },
    {
      "cell_type": "markdown",
      "metadata": {
        "id": "IwpDRPXJPV5J"
      },
      "source": [
        "## Using `roscd`\n",
        "`roscd` is use to go into package directory or stack. This command will directly take you to the directory of the package and it's really handy"
      ]
    },
    {
      "cell_type": "code",
      "metadata": {
        "id": "FSfVS7jdRyzA"
      },
      "source": [
        "!roscd roscpp"
      ],
      "execution_count": null,
      "outputs": []
    },
    {
      "cell_type": "markdown",
      "metadata": {
        "id": "R2eu15zNSFdJ"
      },
      "source": [
        "## Listing directory\n",
        "This command will help you to list all the files in the packages directory that you can check which files are present in it"
      ]
    },
    {
      "cell_type": "code",
      "metadata": {
        "id": "HhFQ8e_4i3TC"
      },
      "source": [
        "!rosls roscpp"
      ],
      "execution_count": null,
      "outputs": []
    },
    {
      "cell_type": "markdown",
      "metadata": {
        "id": "PUCHzzCyKAx3"
      },
      "source": [
        "# Installation and Confirigation ROS Environment"
      ]
    },
    {
      "cell_type": "markdown",
      "metadata": {
        "id": "ZV73LpPrKhRF"
      },
      "source": [
        "## Environment check\n",
        "Check enivronment "
      ]
    },
    {
      "cell_type": "code",
      "metadata": {
        "id": "U7o9s3DFLFB9"
      },
      "source": [
        "printenv | grep ROS"
      ],
      "execution_count": null,
      "outputs": []
    },
    {
      "cell_type": "markdown",
      "metadata": {
        "id": "VBik0I9AjAoP"
      },
      "source": [
        "# Thank You\n",
        "If you really understand this tutorial then please share it with your friends and on social media so that the knowledge can be spread all around the world and if you have come commnet then you can go it [discussions](https://github.com/mrfoxie/ros_tutorials/discussions) page and discuss there so that I and other can get knowlegde and ideas."
      ]
    }
  ]
}