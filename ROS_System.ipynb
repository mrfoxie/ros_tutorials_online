{
  "nbformat": 4,
  "nbformat_minor": 0,
  "metadata": {
    "colab": {
      "name": "ROS System.ipynb",
      "provenance": [],
      "collapsed_sections": [],
      "toc_visible": true,
      "authorship_tag": "ABX9TyMLHzHt4q1DNPGOZULovdVE",
      "include_colab_link": true
    },
    "kernelspec": {
      "display_name": "Python 3",
      "name": "python3"
    },
    "language_info": {
      "name": "python"
    }
  },
  "cells": [
    {
      "cell_type": "markdown",
      "metadata": {
        "id": "view-in-github",
        "colab_type": "text"
      },
      "source": [
        "<a href=\"https://colab.research.google.com/github/mrfoxie/ros_tutorials_online/blob/master/ROS_System.ipynb\" target=\"_parent\"><img src=\"https://colab.research.google.com/assets/colab-badge.svg\" alt=\"Open In Colab\"/></a>"
      ]
    },
    {
      "cell_type": "markdown",
      "metadata": {
        "id": "SIr9iZrJghnp"
      },
      "source": [
        "# Hello user\n",
        "I will try my best to make you understand ROS System in the simplest way as I can also I will be uploading my tutorial project on [github](https://github.com/mrfoxie/ros_tutorials) so that you can use it for yourself and make changes as you want ROS mainly uses Cpp and python as its main programming to run it projects as well as its tutorials. You can use ctrl+F9 to run all the commands at once but I presonally recommend to go throught all the cells and read the instruction but if your familiar with the commands then you can run all the cells at once its on you. If your expert then you can contribute on my github repo [ROS Tutorials](https://github.com/mrfoxie/ros_tutorials) I know that there are many people who are expert in this field so if you can contribue here and on my repo then it would be really helpfull for me to learn and share knowledge to everyone.\n",
        "<br><br><br><br><br>\n",
        "Regards."
      ]
    },
    {
      "cell_type": "markdown",
      "metadata": {
        "id": "rPXqeN9UNAYd"
      },
      "source": [
        "# Package update and upgrade"
      ]
    },
    {
      "cell_type": "code",
      "metadata": {
        "id": "VVt9r4fJnFes",
        "cellView": "form"
      },
      "source": [
        "#@markdown Package update and upgradation\n",
        "#@markdown We we will be upgrading ubuntu system packages and also checking release version of ubuntu so that we can install ROS System here.\n",
        "#@markdown It will take time while upgrading packages so wait for a while.😅😅\n",
        "!apt update\n",
        "!apt upgrade -y\n",
        "!apt dist-upgrade\n",
        "!apt list --upgradable\n",
        "!apt full-upgrade\n",
        "!apt install libcudnn8 libcudnn8-dev libnccl2 libnccl-dev  --allow-change-held-packages\n",
        "!apt --purge autoremove -y"
      ],
      "execution_count": null,
      "outputs": []
    },
    {
      "cell_type": "markdown",
      "metadata": {
        "id": "6x73cNp0eiw8"
      },
      "source": [
        "We will install some packages before proceedings ahead so that it would be eaiser."
      ]
    },
    {
      "cell_type": "code",
      "metadata": {
        "cellView": "form",
        "id": "6uE7ahqMe6ZU"
      },
      "source": [
        "#@markdown Start isntallation\n",
        "!apt install git terminator -y"
      ],
      "execution_count": null,
      "outputs": []
    },
    {
      "cell_type": "markdown",
      "metadata": {
        "id": "um6hvy1AnM4q"
      },
      "source": [
        "## Check which system for installation for ROS Systen"
      ]
    },
    {
      "cell_type": "code",
      "metadata": {
        "cellView": "form",
        "id": "rVtpRP5QnlA2"
      },
      "source": [
        "#@markdown Release version check\n",
        "<br>\n",
        "#@markdown We will check which OS is it and which type of sytem it is.\n",
        "!lsb_release -a\n",
        "!uname -a"
      ],
      "execution_count": null,
      "outputs": []
    },
    {
      "cell_type": "markdown",
      "metadata": {
        "id": "Vx8CoVI6NNZE"
      },
      "source": [
        "# ROS System Installation\n",
        "This are all the commands to install ROS system on this Ubuntu 18.04 bionic version, read all the teps steps and don't miss any one"
      ]
    },
    {
      "cell_type": "markdown",
      "metadata": {
        "id": "ELBjZZc_n7Hi"
      },
      "source": [
        "## Now let's update sources.list"
      ]
    },
    {
      "cell_type": "code",
      "metadata": {
        "cellView": "form",
        "id": "8X3LiwJpoF4z"
      },
      "source": [
        "#@title Update `sources.list` so that we can install **ROS System** packages.\n",
        "!sh -c 'echo \"deb http://packages.ros.org/ros/ubuntu $(lsb_release -sc) main\" > /etc/apt/sources.list.d/ros-latest.list'\n",
        "!apt-key adv --keyserver 'hkp://keyserver.ubuntu.com:80' --recv-key C1CF6E31E6BADE8868B172B4F42ED6FBAB17C654"
      ],
      "execution_count": null,
      "outputs": []
    },
    {
      "cell_type": "markdown",
      "metadata": {
        "id": "h0eC6u9docty"
      },
      "source": [
        "## As the `ROS System` is been added to our systen so now let's update our repositories to get all resources from ROS"
      ]
    },
    {
      "cell_type": "code",
      "metadata": {
        "cellView": "form",
        "id": "mIF9U77GpihR"
      },
      "source": [
        "#@markdown Now as we updated `sources.list` now we will update we will once update our packages, so that we will get all the packages from **ROS System**.\n",
        "!apt update"
      ],
      "execution_count": null,
      "outputs": []
    },
    {
      "cell_type": "markdown",
      "metadata": {
        "id": "c0acyT_BpkzH"
      },
      "source": [
        "## Now as we have done all the process and check what our system(Ubuntu 18.04.5 bionic) is, so now lets check ros packages which we fetch from ROS System."
      ]
    },
    {
      "cell_type": "code",
      "metadata": {
        "id": "fhPZIIZAqNN8",
        "cellView": "form"
      },
      "source": [
        "#@markdown As we have check which system it in [**os release**](https://colab.research.google.com/drive/1WvBBk-5HbWhLl3vDcpcmYCfwWEDMSJn6#scrollTo=rVtpRP5QnlA2&line=3&uniqifier=1) version, now we will check `melodic desktop` is been recived from **ROS System** so that we can move on ahead.\n",
        "#@markdown \n",
        "#@markdown But if you won't get any kind of result then go back to [sources.list](https://colab.research.google.com/drive/1WvBBk-5HbWhLl3vDcpcmYCfwWEDMSJn6#scrollTo=8X3LiwJpoF4z&line=1&uniqifier=1) to update our list.\n",
        "!apt search ros-melodic-desktop-full"
      ],
      "execution_count": null,
      "outputs": []
    },
    {
      "cell_type": "markdown",
      "metadata": {
        "id": "sPy9Nc-9qSia"
      },
      "source": [
        "## As we successfully fetch from ROS System and also check that the package is been fetched so lets install it in our system."
      ]
    },
    {
      "cell_type": "code",
      "metadata": {
        "id": "9Jf7g6sGqnLN",
        "cellView": "form"
      },
      "source": [
        "#@markdown Now let's install `melodic desktop` on our system so that we can simulate 2D as well as 3D simulations.\n",
        "#@markdown \n",
        "#@markdown \n",
        "#@markdown This process may take a while so please be patience.\n",
        "!apt install ros-melodic-desktop-full -y"
      ],
      "execution_count": null,
      "outputs": []
    },
    {
      "cell_type": "markdown",
      "metadata": {
        "id": "yT2hyMT6te1V"
      },
      "source": [
        "## Now let's update our bash so that we can use ROS command anytime we want."
      ]
    },
    {
      "cell_type": "code",
      "metadata": {
        "cellView": "form",
        "id": "KprcQMRstp1R"
      },
      "source": [
        "#@markdown After the installation of `melodic desktop` we need to upate our `bash` so that we can use **ROS System** command in our teminal.\n",
        "!echo \"source /opt/ros/melodic/setup.bash\" >> ~/.bashrc\n",
        "!source ~/.bashrc\n",
        "!source /opt/ros/melodic/setup.bash"
      ],
      "execution_count": null,
      "outputs": []
    },
    {
      "cell_type": "markdown",
      "metadata": {
        "id": "iMh8CVsWt-t6"
      },
      "source": [
        "## Some of the dependancy are been not installed while installation of ROS System so for our safe side let's install it on our system"
      ]
    },
    {
      "cell_type": "code",
      "metadata": {
        "id": "paZdZd7FuO01",
        "cellView": "form"
      },
      "source": [
        "#@markdown We will install some more dependancy if something is been left while installing `melodic desktop`.\n",
        "!apt install python-rosdep python-rosinstall python-rosinstall-generator python-wstool build-essential -y"
      ],
      "execution_count": null,
      "outputs": []
    },
    {
      "cell_type": "markdown",
      "metadata": {
        "id": "eVkCgdXhuUAv"
      },
      "source": [
        "## After all the installation and all the process we will initialize rosdep to get all the sources from ROS"
      ]
    },
    {
      "cell_type": "code",
      "metadata": {
        "cellView": "form",
        "id": "od5UUPTnukxE"
      },
      "source": [
        "#@markdown Initialize rosdep\n",
        "!sudo rosdep init"
      ],
      "execution_count": null,
      "outputs": []
    },
    {
      "cell_type": "markdown",
      "metadata": {
        "id": "n_T2V_aFuu1i"
      },
      "source": [
        "## Now update ROS packages"
      ]
    },
    {
      "cell_type": "code",
      "metadata": {
        "cellView": "form",
        "id": "R9u1V6nZuuON"
      },
      "source": [
        "#@markdown Update ROS packages\n",
        "!rosdep update"
      ],
      "execution_count": null,
      "outputs": []
    },
    {
      "cell_type": "markdown",
      "metadata": {
        "id": "_5vrNM5bxKC9"
      },
      "source": [
        "# GUI Setp up\n",
        "From now on follow the following step so we can get GUI environment and we can work there easily."
      ]
    },
    {
      "cell_type": "code",
      "metadata": {
        "id": "t4yNp3KmLtZ6",
        "cellView": "form"
      },
      "source": [
        "#@markdown Let's set username and password so that when we log in it would be easy to get administator access\n",
        "\n",
        "#@markdown Enter Username and Password\n",
        "\n",
        "import os\n",
        "\n",
        "username = \"mistrysiddh\" #@param {type:\"string\"}\n",
        "password = \"123456\" #@param {type:\"string\"}\n",
        "\n",
        "print(\"Creating User and Setting it up\")\n",
        "\n",
        "# Creation of user\n",
        "os.system(f\"useradd -m {username}\")\n",
        "\n",
        "# Add user to sudo group\n",
        "os.system(f\"adduser {username} sudo\")\n",
        "    \n",
        "# Set password of user to 'root'\n",
        "os.system(f\"echo '{username}:{password}' | sudo chpasswd\")\n",
        "\n",
        "# Change default shell from sh to bash\n",
        "os.system(\"sed -i 's/\\/bin\\/sh/\\/bin\\/bash/g' /etc/passwd\")\n",
        "\n",
        "print(\"User Created and Configured.\")"
      ],
      "execution_count": null,
      "outputs": []
    },
    {
      "cell_type": "code",
      "metadata": {
        "id": "Q6bl1b0EifVG",
        "cellView": "form"
      },
      "source": [
        "#@title GUI Display Environment\n",
        "#@markdown  It takes 4-5 minutes for installation so sit back and relax.\n",
        "import os\n",
        "import subprocess\n",
        "\n",
        "#@markdown  Visit [http://remotedesktop.google.com/headless](http://remotedesktop.google.com/headless) and Copy the command after authentication\n",
        "\n",
        "CRP = \"DISPLAY= /opt/google/chrome-remote-desktop/start-host --code=\\\"4/0AY0e-g4RAnRuinlOWxasH2D269Xss0uSPllpeacvqF0mnlWdPw0tYVqluk2cDWFsX48jkw\\\" --redirect-url=\\\"https://remotedesktop.google.com/_/oauthredirect\\\" --name=$(hostname)\" #@param {type:\"string\"}\n",
        "\n",
        "#@markdown Enter a pin more or equal to 6 digits\n",
        "Pin =  123456#@param {type: \"integer\"}\n",
        "\n",
        "\n",
        "class CRD:\n",
        "    def __init__(self):\n",
        "        os.system(\"apt update\")\n",
        "        self.installCRD()\n",
        "        self.installDesktopEnvironment()\n",
        "        self.installGoogleChorme()\n",
        "        self.finish()\n",
        "\n",
        "    @staticmethod\n",
        "    def installCRD():\n",
        "        print(\"Installing Chrome Remote Desktop\")\n",
        "        subprocess.run(['wget', 'https://dl.google.com/linux/direct/chrome-remote-desktop_current_amd64.deb'], stdout=subprocess.PIPE)\n",
        "        subprocess.run(['dpkg', '--install', 'chrome-remote-desktop_current_amd64.deb'], stdout=subprocess.PIPE)\n",
        "        subprocess.run(['apt', 'install', '--assume-yes', '--fix-broken'], stdout=subprocess.PIPE)\n",
        "\n",
        "    @staticmethod\n",
        "    def installDesktopEnvironment():\n",
        "        print(\"Installing Desktop Environment\")\n",
        "        os.system(\"export DEBIAN_FRONTEND=noninteractive\")\n",
        "        os.system(\"apt install --assume-yes xfce4 desktop-base xfce4-terminal\")\n",
        "        os.system(\"bash -c 'echo \\\"exec /etc/X11/Xsession /usr/bin/xfce4-session\\\" > /etc/chrome-remote-desktop-session'\")\n",
        "        os.system(\"apt remove --assume-yes gnome-terminal\")\n",
        "        os.system(\"apt install --assume-yes xscreensaver\")\n",
        "        os.system(\"systemctl disable lightdm.service\")\n",
        "\n",
        "    @staticmethod\n",
        "    def installGoogleChorme():\n",
        "        print(\"Installing Google Chrome\")\n",
        "        subprocess.run([\"wget\", \"https://dl.google.com/linux/direct/google-chrome-stable_current_amd64.deb\"], stdout=subprocess.PIPE)\n",
        "        subprocess.run([\"dpkg\", \"--install\", \"google-chrome-stable_current_amd64.deb\"], stdout=subprocess.PIPE)\n",
        "        subprocess.run(['apt', 'install', '--assume-yes', '--fix-broken'], stdout=subprocess.PIPE)\n",
        "\n",
        "    @staticmethod\n",
        "    def finish():\n",
        "        print(\"Finalizing\")\n",
        "        os.system(f\"adduser {username} chrome-remote-desktop\")\n",
        "        command = f\"{CRP} --pin={Pin}\"\n",
        "        os.system(f\"su - {username} -c '{command}'\")\n",
        "        os.system(\"service chrome-remote-desktop start\")\n",
        "        print(\"Finished Succesfully\")\n",
        "\n",
        "\n",
        "try:\n",
        "    if username:\n",
        "        if CRP == \"\":\n",
        "            print(\"Please enter authcode from the given link\")\n",
        "        elif len(str(Pin)) < 6:\n",
        "            print(\"Enter a pin more or equal to 6 digits\")\n",
        "        else:\n",
        "            CRD()\n",
        "except NameError as e:\n",
        "    print(\"username variable not found\")\n",
        "    print(\"Create a User First\")"
      ],
      "execution_count": null,
      "outputs": []
    },
    {
      "cell_type": "markdown",
      "metadata": {
        "id": "uW0SUWquyyqW"
      },
      "source": [
        "# Follow me\n",
        "As I assume that you must have been completed above steps so now go to [Remote Access](https://remotedesktop.google.com/access) and you must be able to a desktop online(remember one thing that whenevery you create a new [GUI Environmnet](https://colab.research.google.com/drive/1WvBBk-5HbWhLl3vDcpcmYCfwWEDMSJn6#scrollTo=Q6bl1b0EifVG&line=2&uniqifier=1) the name will be changed.) click on that and enter the 6 digit pin you have given in above cell.\n",
        "\n",
        "There is a little bit disadvantage that the system is little bit slow so just stay with me."
      ]
    },
    {
      "cell_type": "code",
      "metadata": {
        "cellView": "form",
        "id": "CDspjCVuyaPJ"
      },
      "source": [
        "#@title Run this cell so that it would run up up to 12 hours\n",
        "! sleep 43200"
      ],
      "execution_count": null,
      "outputs": []
    },
    {
      "cell_type": "markdown",
      "metadata": {
        "id": "6KwIpPVs0l8V"
      },
      "source": [
        "# GUI Instructions\n",
        "\n",
        "![Imgur](https://i.imgur.com/5Pp3biu.png) \n",
        "![Imgur](https://i.imgur.com/WYR7mpY.png)\n",
        "\n",
        "after opening chrome login into your google account so that we could proced future.\n",
        "\n",
        "![Imgur](https://i.imgur.com/vAzIMTL.png)\n",
        "![Imgur](https://i.imgur.com/rz9DiS9.png)\n",
        "\n",
        "now as you have successfully login into your account now [![Colab](https://colab.research.google.com/assets/colab-badge.svg)](https://colab.research.google.com/github/mrfoxie/ros_tutorials_online/blob/master/ROS_System.ipynb) and follow the steps\n",
        "\n",
        "now open terminator and copy the following steps to create your workshop.\n",
        "![Imagur](https://i.imgur.com/qm0Uaxv.png)\n",
        "![Imagur](https://i.imgur.com/MMpQkCT.png)"
      ]
    },
    {
      "cell_type": "markdown",
      "metadata": {
        "id": "RUjUsjtS5TH4"
      },
      "source": [
        "**(manually copy the command into terminator)**"
      ]
    },
    {
      "cell_type": "markdown",
      "metadata": {
        "id": "fKO193Pw5q8e"
      },
      "source": [
        "# ZSH Setup(optional)\n",
        "I'm going to install zsh on the system because it's easy to use and it's user friendly of you want to [skip]() then you can skip this step and move on ahead.\n",
        "\n",
        "If you want to give it a try then go ahead and give it a try I'm sure you will love it and you will always use this termianl always\n",
        "\n",
        "For installing this cool looking terminal we will have to isntall few dependancy so that we could install it in proper way copy all the steps and past it in the terminator\n",
        "\n",
        "```\n",
        "apt install gedit zsh git curl -y\n",
        "sh -c \"$(curl -fsSL https://raw.github.com/ohmyzsh/ohmyzsh/master/tools/install.sh)\"\n",
        "```\n",
        "adter this we have to edit come setting to look beautiful."
      ]
    },
    {
      "cell_type": "markdown",
      "metadata": {
        "id": "kpAErAjC7Agu"
      },
      "source": [
        "# ZSH Setup\n",
        "now we will make our `ZSH` look beautiful for that we will use the following commands.\n",
        "```\n",
        "gedit ~/.zshrc\n",
        "```\n",
        "now find the following line below and remove ` # ` from the begining of the line.\n",
        "```\n",
        "export UPDATE_ZSH_DAYS=13\n",
        "\n",
        "ENABLE_CORRECTION=\"true\"\n",
        "\n",
        "COMPLETION_WAITING_DOTS=\"true\"\n",
        "```\n",
        "after doing that change this two line to\n",
        "```\n",
        "ZSH_THEME=\"robbyrussell\"\n",
        "\n",
        "plugins=(git)\n",
        "```\n",
        "to this line\n",
        "```\n",
        "ZSH_THEME=\"random\"\n",
        "\n",
        "plugins=(git vscode sudo)\n",
        "```\n",
        "the above line is for plugin so that I have seleceted will be mostly used and I will tell you how to use it. Now save and close the editor and past the bellow command and press enter to update the changes of zsh.\n",
        "```\n",
        "clear && source ~/.zshrc\n",
        "```\n"
      ]
    },
    {
      "cell_type": "markdown",
      "metadata": {
        "id": "NWxkyN5q-wM3"
      },
      "source": [
        "## ROS Setup for zsh\n",
        "As you must have been setup normanl [bash](https://colab.research.google.com/drive/1WvBBk-5HbWhLl3vDcpcmYCfwWEDMSJn6#scrollTo=KprcQMRstp1R) and then [initiallized](https://colab.research.google.com/drive/1WvBBk-5HbWhLl3vDcpcmYCfwWEDMSJn6#scrollTo=eVkCgdXhuUAv) and update [ROS Packages](https://colab.research.google.com/drive/1WvBBk-5HbWhLl3vDcpcmYCfwWEDMSJn6#scrollTo=n_T2V_aFuu1i) but it will not work on ` zsh ` we we have to do it another way so copy and past the following command there.\n",
        "```\n",
        "echo \"source /opt/ros/melodic/setup.zsh\" >> ~/.zshrc\n",
        "source ~/.zshrc\n",
        "```\n",
        "now we will check that weather we can use ` rosdep update ` command in the termial so go and check it weather its working or not\n",
        "```\n",
        "rosdep update\n",
        "```\n",
        "If the command runs without any error then it will give you this output\n",
        "```\n",
        "reading in sources list data from /etc/ros/rosdep/sources.list.d\n",
        "Hit https://raw.githubusercontent.com/ros/rosdistro/master/rosdep/osx-homebrew.yaml\n",
        "Hit https://raw.githubusercontent.com/ros/rosdistro/master/rosdep/base.yaml\n",
        "Hit https://raw.githubusercontent.com/ros/rosdistro/master/rosdep/python.yaml\n",
        "Hit https://raw.githubusercontent.com/ros/rosdistro/master/rosdep/ruby.yaml\n",
        "Hit https://raw.githubusercontent.com/ros/rosdistro/master/releases/fuerte.yaml\n",
        "Query rosdistro index https://raw.githubusercontent.com/ros/rosdistro/master/index-v4.yaml\n",
        "Skip end-of-life distro \"ardent\"\n",
        "Skip end-of-life distro \"bouncy\"\n",
        "Skip end-of-life distro \"crystal\"\n",
        "Add distro \"dashing\"\n",
        "Skip end-of-life distro \"eloquent\"\n",
        "Add distro \"foxy\"\n",
        "Add distro \"galactic\"\n",
        "Skip end-of-life distro \"groovy\"\n",
        "Skip end-of-life distro \"hydro\"\n",
        "Skip end-of-life distro \"indigo\"\n",
        "Skip end-of-life distro \"jade\"\n",
        "Skip end-of-life distro \"kinetic\"\n",
        "Skip end-of-life distro \"lunar\"\n",
        "Add distro \"melodic\"\n",
        "Add distro \"noetic\"\n",
        "Add distro \"rolling\"\n",
        "```"
      ]
    },
    {
      "cell_type": "markdown",
      "metadata": {
        "id": "--J1MTpZ4-c6"
      },
      "source": [
        "# Environment Check-up\n",
        "Now lets check the environment and see all the details of ` ROS ` installed in the system\n",
        "```\n",
        "printenv | grep ROS\n",
        "```\n",
        "It should give you this output.\n",
        "```\n",
        "ROS_DISTRO=melodic\n",
        "ROS_ETC_DIR=/opt/ros/melodic/etc/ros\n",
        "ROS_PACKAGE_PATH=/opt/ros/melodic/share\n",
        "ROS_PYTHON_VERSION=2\n",
        "ROS_VERSION=1\n",
        "ROS_ROOT=/opt/ros/melodic/share/ros\n",
        "ROS_MASTER_URI=http://localhost:11311\n",
        "ROSLISP_PACKAGE_DIRECTORIES=\n",
        "```\n",
        "so it means that our ` ROS ` is been successfully installed in the sytem. Now ROS packages installed with package managers provide setup.*sh files so we have to do this process one time after installation\n",
        "```\n",
        "source /opt/ros/melodic/setup.zsh \n",
        "```\n",
        "The above command help us to use ` catkin ` command anywhere in our system so that I would be easy to use. Now after all this process we can create our workshop."
      ]
    },
    {
      "cell_type": "markdown",
      "metadata": {
        "id": "d0Pk5Gl6BfUi"
      },
      "source": [
        "# Workshop setup using existing project\n",
        "Till now we have update our package and installing the ROS pacakge by checking our System in the starting. Now we well see some commands which will help to you to understand how to use ros command and run your first program I have also make an git repo on github and i will be also uploading it on gitlab also\n",
        "```\n",
        "git clone https://github.com/mrfoxie/ros_tutorials.git\n",
        "```\n",
        "The above code is the ros project which will help you to understand the workflow of ros system as well as to create your first own turtle simulator. so we will be cloning it here so that we can check it our how does it works or you can skip this step and create workshop mannually. So copy and past the following commands\n",
        "```\n",
        "# if you using zsh then past following command\n",
        "\n",
        "~/\n",
        "git clone https://github.com/mrfoxie/ros_tutorials.git ~/catkin_ws\n",
        "~/catkin_ws\n",
        "catkin_make\n",
        "```\n",
        "```\n",
        "# if you using bash then past following command\n",
        "\n",
        "cd ~/\n",
        "git clone https://github.com/mrfoxie/ros_tutorials.git ~/catkin_ws\n",
        "cd ~/catkin_ws\n",
        "catkin_make\n",
        "```\n"
      ]
    },
    {
      "cell_type": "markdown",
      "metadata": {
        "id": "hiyuyh_GD_AR"
      },
      "source": [
        "# Create Workshop mannually\n",
        "If your using ` ZSH ` then use the following command,\n",
        "```\n",
        "~/\n",
        "mkdir -p catkin_ws/src\n",
        "~/catkin_ws\n",
        "catkin_make\n",
        "```\n",
        "and if your using ` bash ` then use the following command,\n",
        "```\n",
        "cd ~/\n",
        "mkdir -p catkin_ws/src\n",
        "cd ~/catkin_ws\n",
        "catkin_make\n",
        "```\n",
        "after using ` catkin_make ` you will get this type of out put in your terminal\n",
        "```\n",
        "-- The C compiler identification is GNU 7.5.0\n",
        "-- The CXX compiler identification is GNU 7.5.0\n",
        "-- Check for working C compiler: /usr/bin/cc\n",
        "-- Check for working C compiler: /usr/bin/cc -- works\n",
        "-- Detecting C compiler ABI info\n",
        "-- Detecting C compiler ABI info - done\n",
        "-- Detecting C compile features\n",
        "-- Detecting C compile features - done\n",
        "-- Check for working CXX compiler: /usr/bin/c++\n",
        "-- Check for working CXX compiler: /usr/bin/c++ -- works\n",
        "-- Detecting CXX compiler ABI info\n",
        "-- Detecting CXX compiler ABI info - done\n",
        "-- Detecting CXX compile features\n",
        "-- Detecting CXX compile features - done\n",
        "-- Using CATKIN_DEVEL_PREFIX: /home/mistrysiddh/catkin_ws/devel\n",
        "-- Using CMAKE_PREFIX_PATH: /opt/ros/melodic\n",
        "-- This workspace overlays: /opt/ros/melodic\n",
        "-- Found PythonInterp: /usr/bin/python2 (found suitable version \"2.7.17\", minimum required is \"2\") \n",
        "-- Using PYTHON_EXECUTABLE: /usr/bin/python2\n",
        "-- Using Debian Python package layout\n",
        "-- Using empy: /usr/bin/empy\n",
        "-- Using CATKIN_ENABLE_TESTING: ON\n",
        "-- Call enable_testing()\n",
        "-- Using CATKIN_TEST_RESULTS_DIR: /home/mistrysiddh/catkin_ws/build/test_results\n",
        "-- Found gtest sources under '/usr/src/googletest': gtests will be built\n",
        "-- Found gmock sources under '/usr/src/googletest': gmock will be built\n",
        "-- Found PythonInterp: /usr/bin/python2 (found version \"2.7.17\") \n",
        "-- Looking for pthread.h\n",
        "-- Looking for pthread.h - found\n",
        "-- Looking for pthread_create\n",
        "-- Looking for pthread_create - not found\n",
        "-- Looking for pthread_create in pthreads\n",
        "-- Looking for pthread_create in pthreads - not found\n",
        "-- Looking for pthread_create in pthread\n",
        "-- Looking for pthread_create in pthread - found\n",
        "-- Found Threads: TRUE  \n",
        "-- Using Python nosetests: /usr/local/bin/nosetests-2.7\n",
        "-- catkin 0.7.29\n",
        "-- BUILD_SHARED_LIBS is on\n",
        "-- BUILD_SHARED_LIBS is on\n",
        "-- Configuring done\n",
        "-- Generating done\n",
        "-- Build files have been written to: /home/mistrysiddh/catkin_ws/build\n",
        "Base path: /home/mistrysiddh/catkin_ws\n",
        "Source space: /home/mistrysiddh/catkin_ws/src\n",
        "Build space: /home/mistrysiddh/catkin_ws/build\n",
        "Devel space: /home/mistrysiddh/catkin_ws/devel\n",
        "Install space: /home/mistrysiddh/catkin_ws/install\n",
        "Creating symlink \"/home/mistrysiddh/catkin_ws/src/CMakeLists.txt\" pointing to \"/opt/ros/melodic/share/catkin/cmake/toplevel.cmake\"\n",
        "####\n",
        "#### Running command: \"cmake /home/mistrysiddh/catkin_ws/src -DCATKIN_DEVEL_PREFIX=/home/mistrysiddh/catkin_ws/devel -DCMAKE_INSTALL_PREFIX=/home/mistrysiddh/catkin_ws/install -G Unix Makefiles\" in \"/home/mistrysiddh/catkin_ws/build\"\n",
        "####\n",
        "####\n",
        "#### Running command: \"make -j2 -l2\" in \"/home/mistrysiddh/catkin_ws/build\"\n",
        "####\n",
        "```"
      ]
    },
    {
      "cell_type": "markdown",
      "metadata": {
        "id": "VBik0I9AjAoP"
      },
      "source": [
        "# Thank You\n",
        "\n",
        "If you really understand this tutorial then please share it with your friends and on social media so that the knowledge can be spread all around the world and if you have come commnet then you can go it [discussions](https://github.com/mrfoxie/ros_tutorials/discussions) page and discuss there so that I and other can get knowlegde and ideas."
      ]
    }
  ]
}